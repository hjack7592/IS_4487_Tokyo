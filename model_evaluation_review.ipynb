{
  "nbformat": 4,
  "nbformat_minor": 0,
  "metadata": {
    "colab": {
      "provenance": []
    },
    "kernelspec": {
      "name": "python3",
      "display_name": "Python 3"
    },
    "language_info": {
      "name": "python"
    }
  },
  "cells": [
    {
      "cell_type": "markdown",
      "source": [
        "## Instructions\n",
        "\n",
        "One of the simplifying assumptions we will make in this project is that all the customers who answer the phone will purchase a product. (This assumption is actually verified by the data.) To model answered in this case is therefore equivalent to modeling purchased.\n",
        "\n",
        "There are costs and benefits in this case. We will assume that customers purchase a product for 100 dollars. The company investment in making the sale is $25. Profit is therefore 75 dollars for an answered call, which, we assume, will result in a purchase. In sum:\n",
        "\n",
        "- Benefit: True positive. The customer is predicted to answer, does answer, and purchases a product for 100 for a profit of 100 - 25 = 75.\n",
        "- Cost: False positive. The customer is predicted to answer, but does not answer, so there is a loss of 25. (We assume the agent cannot schedule another call at the last minute, or spends the entire time slot trying to make the call.) For this exercise, we propose that customers who are not predicted to answer will not be called, so there would be no benefits and no costs for them.\n",
        "\n",
        "You should split the data into a train set with 80% of the data and a test set with 20%. Use random_state = 200 in the sample() function when splitting the data. This will ensure that you are working with the correct data."
      ],
      "metadata": {
        "id": "PBp097Tmf534"
      }
    },
    {
      "cell_type": "markdown",
      "source": [
        "# Data Prep\n",
        "\n",
        "- Make an explicit copy\n",
        "- Remove NAs (there are a couple)\n",
        "- Leave the categorical features as is\n",
        "- Remove negative `income`\n",
        "- Remove outlier in `num_accts`\n",
        "- Drop `product`. (Since purchase take place after someone has answered the phone it can't be used to predict answering.)"
      ],
      "metadata": {
        "id": "bsQZRSJPgFrD"
      }
    },
    {
      "cell_type": "code",
      "source": [
        "# Load packages\n",
        "\n",
        "import pandas as pd\n",
        "from sklearn.tree import plot_tree\n",
        "from sklearn.tree import DecisionTreeClassifier # Import Decision Tree Classifier\n",
        "from sklearn import tree\n",
        "import numpy as np\n",
        "from sklearn.metrics import ConfusionMatrixDisplay\n"
      ],
      "metadata": {
        "id": "0ksnWQvxhGsZ"
      },
      "execution_count": null,
      "outputs": []
    },
    {
      "cell_type": "code",
      "source": [
        "# Download data\n",
        "ai = pd.read_csv(\"https://raw.githubusercontent.com/jefftwebb/is_4487_base/main/Assignments/DataSets/adviseinvest.csv\")\n",
        "\n",
        "# Create a copy of the original\n",
        "ai_clean = ai.copy()\n",
        "\n",
        "# remove NAs from ai\n",
        "ai_clean = ai.dropna()\n",
        "\n",
        "# remove outlier\n",
        "ai_clean = ai_clean[ai_clean.num_accts < 100]\n",
        "\n",
        "# remove negative income\n",
        "ai_clean = ai_clean[ai_clean.income >= 0]\n",
        "\n",
        "# drop product\n",
        "ai_clean = ai_clean.drop(['product'], axis=1)"
      ],
      "metadata": {
        "id": "dd5G5MR7gEi7"
      },
      "execution_count": null,
      "outputs": []
    },
    {
      "cell_type": "code",
      "source": [
        "# check that the cleaning worked\n",
        "ai_clean.describe()"
      ],
      "metadata": {
        "id": "wm2BfWpLhcTN"
      },
      "execution_count": null,
      "outputs": []
    },
    {
      "cell_type": "code",
      "source": [
        "# check no NAs\n",
        "ai_clean.isna().sum()"
      ],
      "metadata": {
        "id": "2YRNstmthj7e"
      },
      "execution_count": null,
      "outputs": []
    },
    {
      "cell_type": "markdown",
      "source": [
        "## Cross validation\n",
        "\n",
        "Set up train and test sets."
      ],
      "metadata": {
        "id": "hFPMQIRAgvVr"
      }
    },
    {
      "cell_type": "code",
      "execution_count": null,
      "metadata": {
        "id": "xp2uc_jvfv1n"
      },
      "outputs": [],
      "source": [
        "# divide ai_clean into train and test\n",
        "train = ai_clean.sample(frac=0.8, random_state=200) # 80% of data for training\n",
        "test = ai_clean.drop(train.index) # the remaining 20%\n",
        "\n",
        "\n",
        "# Define X and y in train and test\n",
        "X_train = train.drop(['answered'], axis = 1)\n",
        "y_train = train.answered\n",
        "\n",
        "X_test = test.drop(['answered'], axis = 1)\n",
        "y_test = test.answered\n",
        "\n"
      ]
    },
    {
      "cell_type": "markdown",
      "source": [
        "## Q1\n",
        "\n",
        "Fit a tree model of answered using all the available predictors in the train set. This is the model from the previous project; you are welcome to cut and paste your code.\n",
        "\n",
        "Create a confusion matrix for this model using predictions from the test set. (The default probability threshold used by the function is .5.)"
      ],
      "metadata": {
        "id": "q1kfl2mniE0m"
      }
    },
    {
      "cell_type": "code",
      "source": [
        "# Initialize model, specifying max_depth = 5\n",
        "tree_model = DecisionTreeClassifier(criterion = \"entropy\", max_depth = 5)\n",
        "\n",
        "# Fit model to train data\n",
        "tree_model = tree_model.fit(X_train, y_train)"
      ],
      "metadata": {
        "id": "0QeQ4h_Xg90l"
      },
      "execution_count": null,
      "outputs": []
    },
    {
      "cell_type": "code",
      "source": [
        "# predict using predict() and predict_proba()--the results should be the same\n",
        "# make sure to predict on the test set\n",
        "pred = tree_model.predict(X_test)\n",
        "pred[:5,]\n"
      ],
      "metadata": {
        "id": "GVtn0sz4iI0G"
      },
      "execution_count": null,
      "outputs": []
    },
    {
      "cell_type": "code",
      "source": [
        "# should get exactly the same output using predicted probabilities\n",
        "pred_prob = tree_model.predict_proba(X_test)\n",
        "y_prob_labels = np.where(pred_prob[:,1] > 0.5, 1, 0)\n",
        "y_prob_labels[:5,]"
      ],
      "metadata": {
        "id": "Q3QqFWYQiev-"
      },
      "execution_count": null,
      "outputs": []
    },
    {
      "cell_type": "code",
      "source": [
        "# create confusion matrix\n",
        "ConfusionMatrixDisplay.from_predictions(y_test, pred)"
      ],
      "metadata": {
        "id": "KaerojItjlIr"
      },
      "execution_count": null,
      "outputs": []
    },
    {
      "cell_type": "markdown",
      "source": [
        "- TP: 2306\n",
        "- FP: 384\n",
        "- FN: 973\n",
        "- TN: 2237\n"
      ],
      "metadata": {
        "id": "QZjEewbrkHqE"
      }
    },
    {
      "cell_type": "markdown",
      "source": [
        "## Q2\n",
        "\n",
        "Using the confusion matrix in the previous question how much profit (revenue - costs) could be expected with these costs-benefits?\n",
        "\n",
        "- Benefit: 100\n",
        "- Cost 25\n",
        "\n",
        "Hint: multiply the counts in the confusion matrix cells by the the cost-benefit matrix cells. Note: profit should not be negative! Make sure that you have correctly identified the true positives and the false positives in your confusion matrix."
      ],
      "metadata": {
        "id": "NI6uUKIJkeCm"
      }
    },
    {
      "cell_type": "code",
      "source": [
        "2306 * (100- 25) - 384 * 25"
      ],
      "metadata": {
        "id": "fx3rudBpkmeR"
      },
      "execution_count": null,
      "outputs": []
    },
    {
      "cell_type": "markdown",
      "source": [
        "## Q3\n",
        "\n",
        "How much profit (revenue - costs) could be expected if all customers in the test set are called? We can consider this a baseline case for profit since it does not require a model.\n",
        "\n",
        "In other words, to calculate profit in this baseline scenario treat the customers who answered as true positives and treat the customers who did not answer as false positives."
      ],
      "metadata": {
        "id": "w0E3ArfTk7ML"
      }
    },
    {
      "cell_type": "code",
      "source": [
        "y_test.value_counts()"
      ],
      "metadata": {
        "id": "-iDjr9DSlCiQ"
      },
      "execution_count": null,
      "outputs": []
    },
    {
      "cell_type": "code",
      "source": [
        "3279 * (100- 25) - 2621 * 25"
      ],
      "metadata": {
        "id": "Qcnz7YL-lHaf"
      },
      "execution_count": null,
      "outputs": []
    },
    {
      "cell_type": "markdown",
      "source": [
        "## Q4\n",
        "How much profit can be expected if only customers with a predicted probability of answering > .2 are called? Again, use the test set to calculate profit."
      ],
      "metadata": {
        "id": "kN_uj3JvlPd2"
      }
    },
    {
      "cell_type": "code",
      "source": [
        "y_prob_labels = np.where(pred_prob[:,1] > 0.2, 1, 0)\n",
        "ConfusionMatrixDisplay.from_predictions(y_test, y_prob_labels)"
      ],
      "metadata": {
        "id": "EF-zjuKFlXF1"
      },
      "execution_count": null,
      "outputs": []
    },
    {
      "cell_type": "code",
      "source": [
        "3279*(100-25) - 2237*25"
      ],
      "metadata": {
        "id": "Jt3R4CfJljsF"
      },
      "execution_count": null,
      "outputs": []
    }
  ]
}