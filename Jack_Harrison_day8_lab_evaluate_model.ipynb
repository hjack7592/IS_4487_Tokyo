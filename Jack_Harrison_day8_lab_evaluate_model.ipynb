{
  "cells": [
    {
      "cell_type": "markdown",
      "metadata": {
        "id": "view-in-github",
        "colab_type": "text"
      },
      "source": [
        "<a href=\"https://colab.research.google.com/github/hjack7592/IS_4487_Tokyo/blob/main/Jack_Harrison_day8_lab_evaluate_model.ipynb\" target=\"_parent\"><img src=\"https://colab.research.google.com/assets/colab-badge.svg\" alt=\"Open In Colab\"/></a>"
      ]
    },
    {
      "cell_type": "markdown",
      "metadata": {
        "id": "p_Yu45OYdj3Y"
      },
      "source": [
        "# Day 8 Lab, IS 4487\n",
        "\n",
        "What do you need to know how to do for today's project?\n",
        "\n",
        "1. Fit a tree model using all the available predictors.\n",
        "2. Create a confusion matrix  and identify numbers of TP, FP, TN and FN.\n",
        "3. Estimate profit (benefits - costs) using a defined cost-benefit matrix and a confusion matrix for:\n",
        "  - all customers\n",
        "  - only the customer predicted to answer\n",
        "\n",
        "Of course, for this lab we'll be using the MegaTelCo data, in which case the target is `leave` not `answer`.  \n",
        "\n",
        "Note that the first set of steps below is identical to what we did in the previous lab.\n",
        "\n",
        "\n"
      ]
    },
    {
      "cell_type": "markdown",
      "metadata": {
        "id": "UE93RwXhgiJS"
      },
      "source": [
        "#Load Libraries\n"
      ]
    },
    {
      "cell_type": "code",
      "execution_count": 1,
      "metadata": {
        "id": "JYRZY5n0gfNe"
      },
      "outputs": [],
      "source": [
        "# Import packages needed for the classification tree\n",
        "from sklearn.tree import plot_tree\n",
        "from sklearn import tree\n",
        "from sklearn.tree import DecisionTreeClassifier, export_graphviz # Import Decision Tree Classifier\n",
        "import pandas as pd\n",
        "import matplotlib.pyplot as plt\n",
        "import numpy as np\n"
      ]
    },
    {
      "cell_type": "markdown",
      "metadata": {
        "id": "bREaXo8jfu-O"
      },
      "source": [
        "# Get Data\n"
      ]
    },
    {
      "cell_type": "code",
      "execution_count": 2,
      "metadata": {
        "id": "udYgkb6I3SJo"
      },
      "outputs": [],
      "source": [
        "mtc = pd.read_csv(\"https://raw.githubusercontent.com/jefftwebb/is_4487_base/dd870389117d5b24eee7417d5378d80496555130/Labs/DataSets/megatelco_leave_survey.csv\")"
      ]
    },
    {
      "cell_type": "markdown",
      "metadata": {
        "id": "BtxOWvFlKzgE"
      },
      "source": [
        "# Clean data\n",
        "\n",
        "Perform the cleaning from the previous labs:\n",
        "\n",
        "- Make a copy of the data\n",
        "- Remove negative values of income and house\n",
        "- Remove absurdly large value of handset_price\n",
        "- Remove NAs\n",
        "- Change college to yes and no\n",
        "- Make string variables into categorical variables.\n",
        "- Convert the now ordered categorical levels into integers.\n"
      ]
    },
    {
      "cell_type": "code",
      "execution_count": 3,
      "metadata": {
        "id": "7KXLvMcBK8Za"
      },
      "outputs": [],
      "source": [
        "# Make explicit copy\n",
        "mtc_clean = mtc.copy()\n",
        "\n",
        "# filter rows\n",
        "mtc_clean = mtc[(mtc['house'] > 0) & (mtc['income'] > 0) & (mtc['handset_price'] < 1000)]\n",
        "\n",
        "# remove NAs\n",
        "mtc_clean = mtc_clean.dropna()\n",
        "\n",
        "# Recode college\n",
        "mtc_clean['college'] = mtc_clean['college'].replace({'one': 'yes', 'zero': 'no'})\n",
        "\n",
        "# change reported usage and reported satisfaction (ordered)\n",
        "mtc_clean['college'] = pd.Categorical(mtc_clean['college'],\n",
        "                                    ordered = False).codes\n",
        "\n",
        "mtc_clean['considering_change_of_plan'] = pd.Categorical(mtc_clean['considering_change_of_plan'],\n",
        "                                    ordered = False).codes\n",
        "\n",
        "# change reported usage and reported satisfaction (ordered)\n",
        "mtc_clean['reported_usage_level'] = pd.Categorical(mtc_clean['reported_usage_level'],\n",
        "                                    categories = ['low', 'avg','high'],\n",
        "                                    ordered = True).codes\n",
        "\n",
        "mtc_clean['reported_satisfaction'] = pd.Categorical(mtc_clean['reported_satisfaction'],\n",
        "                                    categories = ['low', 'avg','high'],\n",
        "                                    ordered = True).codes\n",
        "\n",
        "\n"
      ]
    },
    {
      "cell_type": "markdown",
      "metadata": {
        "id": "Zp7wGDqJ4iuL"
      },
      "source": [
        "# Fit full model\n",
        "\n",
        "1. Split the data into train and test sets\n",
        "2. Fit the model to the train set using `max_depth = 4` to keep the tree simple and prevent overfitting."
      ]
    },
    {
      "cell_type": "code",
      "execution_count": 4,
      "metadata": {
        "id": "gvMekcKg4y5X"
      },
      "outputs": [],
      "source": [
        "# 1. divide mtc_clean into train and test\n",
        "train = mtc_clean.sample(frac=0.8, random_state=200) # 80% of data for training\n",
        "test = mtc_clean.drop(train.index) # the remaining 20%\n",
        "\n",
        "\n",
        "# 2. Define X and y in train and test\n",
        "X_train = train.drop(['id', 'leave'], axis = 1)\n",
        "y_train = train['leave']\n",
        "\n",
        "X_test = test.drop(['id', 'leave'], axis = 1)\n",
        "y_test = test['leave']\n",
        "\n",
        "# 3.  Initialize model, specifying max_depth = 4\n",
        "full_tree = DecisionTreeClassifier(criterion = \"entropy\", max_depth = 4)\n",
        "\n",
        "# 4. Fit model to train data\n",
        "full_tree = full_tree.fit(X_train, y_train)"
      ]
    },
    {
      "cell_type": "markdown",
      "metadata": {
        "id": "-I66jKusS_Xe"
      },
      "source": [
        "# Create a confusion matrix\n",
        "\n",
        "The confusion matrix will show counts of false positives, true positives, false negatives and true negatives. Essentially it provides a window into how the model is performing--where it is making mistakes.\n",
        "\n",
        "Remember that the confusion matrix will display TP, FP, TN and FN *on the test set*.  Thus:\n",
        "\n",
        "1. Fit the model on the train set\n",
        "2. Evaluate the model on test set\n",
        "\n"
      ]
    },
    {
      "cell_type": "code",
      "source": [
        "# Get model predictions\n",
        "pred = full_tree.predict(X = X_test)\n"
      ],
      "metadata": {
        "id": "XaXPt2wmeJHQ"
      },
      "execution_count": 5,
      "outputs": []
    },
    {
      "cell_type": "code",
      "source": [
        "pred[0:5,]"
      ],
      "metadata": {
        "id": "2-uMPp0hsW3x",
        "colab": {
          "base_uri": "https://localhost:8080/"
        },
        "outputId": "08254626-f5f0-4f28-e8d2-507d6b16a870"
      },
      "execution_count": 6,
      "outputs": [
        {
          "output_type": "execute_result",
          "data": {
            "text/plain": [
              "array(['STAY', 'LEAVE', 'LEAVE', 'LEAVE', 'LEAVE'], dtype=object)"
            ]
          },
          "metadata": {},
          "execution_count": 6
        }
      ]
    },
    {
      "cell_type": "code",
      "source": [
        "# create a confusion matrix using the Display.from_predictions function\n",
        "from sklearn.metrics import ConfusionMatrixDisplay\n",
        "\n",
        "ConfusionMatrixDisplay.from_predictions(y_test, pred)"
      ],
      "metadata": {
        "id": "RgZ_Mc3rUv-K",
        "colab": {
          "base_uri": "https://localhost:8080/",
          "height": 466
        },
        "outputId": "17ea8450-0aae-4411-c2df-3ae72c597a6a"
      },
      "execution_count": 28,
      "outputs": [
        {
          "output_type": "execute_result",
          "data": {
            "text/plain": [
              "<sklearn.metrics._plot.confusion_matrix.ConfusionMatrixDisplay at 0x7c7560c9add0>"
            ]
          },
          "metadata": {},
          "execution_count": 28
        },
        {
          "output_type": "display_data",
          "data": {
            "text/plain": [
              "<Figure size 640x480 with 2 Axes>"
            ],
            "image/png": "[encoded data removed]"
          },
          "metadata": {}
        }
      ]
    },
    {
      "cell_type": "markdown",
      "source": [
        "Explanation of code:\n",
        "\n",
        "- `ConfusionMatrixDisplay.from_predictions(y, pred)`: creates a confusion matrix in a heatmap format."
      ],
      "metadata": {
        "id": "d8VYOWViuBSm"
      }
    },
    {
      "cell_type": "markdown",
      "source": [
        "It is typical to put the predictions in the columns.  But what matters is that you are able to identify the following categories--and associated counts-- from the table:\n",
        "\n",
        "- TP--predicted to leave and actually left:  395\n",
        "- FP--predicted to leave but stayed:  218\n",
        "- TN--predicted to stay and stayed: 297\n",
        "- FN--predicted to stay but left: 89   \n",
        "\n",
        "These numbers are related to accuracy.  (TP + TN)/ total = accuracy.  \n",
        "\n",
        "Go ahead and do the calculations."
      ],
      "metadata": {
        "id": "D9PYLQg4m-RN"
      }
    },
    {
      "cell_type": "code",
      "source": [
        "# Calculate accuracy from the confusion matrix\n",
        "(395 + 297) / (395 + 218 + 297 + 89)"
      ],
      "metadata": {
        "id": "z2mR2u0gnPr_",
        "colab": {
          "base_uri": "https://localhost:8080/"
        },
        "outputId": "2c679e0a-e06a-48ea-9f6d-492344f84f34"
      },
      "execution_count": 8,
      "outputs": [
        {
          "output_type": "execute_result",
          "data": {
            "text/plain": [
              "0.6926926926926927"
            ]
          },
          "metadata": {},
          "execution_count": 8
        }
      ]
    },
    {
      "cell_type": "code",
      "source": [
        "# Verify by comparing test predictions and test observations using the code\n",
        "# from previous labs\n",
        "pred_train = full_tree.predict(X_train)\n",
        "pred_test = full_tree.predict(X_test)\n",
        "sum(pred_train == y_train) / len(y_train)\n"
      ],
      "metadata": {
        "id": "AcqhHvgHncN5",
        "colab": {
          "base_uri": "https://localhost:8080/"
        },
        "outputId": "727ce8a3-5636-4409-e161-20995bdd38ce"
      },
      "execution_count": 12,
      "outputs": [
        {
          "output_type": "execute_result",
          "data": {
            "text/plain": [
              "0.7103879849812266"
            ]
          },
          "metadata": {},
          "execution_count": 12
        }
      ]
    },
    {
      "cell_type": "code",
      "source": [
        "sum(pred_test == y_test) / len(y_test)"
      ],
      "metadata": {
        "colab": {
          "base_uri": "https://localhost:8080/"
        },
        "id": "dZtzTdW8Pdzj",
        "outputId": "2e78b460-213a-473b-8c2b-cede1c3c59d2"
      },
      "execution_count": 11,
      "outputs": [
        {
          "output_type": "execute_result",
          "data": {
            "text/plain": [
              "0.6926926926926927"
            ]
          },
          "metadata": {},
          "execution_count": 11
        }
      ]
    },
    {
      "cell_type": "markdown",
      "metadata": {
        "id": "vTC161_b9kWm"
      },
      "source": [
        "# Calculate Profit\n",
        "\n",
        "Using the above confusion matrix how much profit (revenue - costs) could be expected with the following costs-benefits?\n",
        "\n",
        "For MegaTelCo we will assume:\n",
        "- benefit (revenue) = 800\n",
        "- cost = 200  \n",
        "\n",
        "TPs are a benefit, FPs are a cost. Again, we ignore those predicted to stay.\n",
        "\n",
        "Why do we ignore those who are predicted to stay??\n",
        "\n",
        "Note that the cost-benefit numbers will be different in the AdviseInvest case! Costs and benefits are very context dependent.\n",
        "\n",
        "Why are TPs a benefit? In the MegaTelCo scenario, these are customers who are predicted to leave and actually were going to leave. If your marketing campaign is successful, then you can convince them to stay, thereby saving the company money. (In the AdviseInvest scenario the situation is a little different. TPs are customers that you have predicted will answer the phone and do answer, thus providing an opportunity for your sales reps to make a sale.)\n",
        "\n",
        "**Assume you can save 100% of the people who were actually going to leave.**\n",
        "\n",
        "Here is the calculation:\n",
        "\n",
        "- Multiply TP (the true leavers) x 600 (benefit - cost).  These are the leave-leave people in the confusion matrix who would have been  retained due to your marketing campaign.\n",
        "- Multiply FP (the false leavers) x 200 (cost). These are the leave-stay people in the confusion matrix who churned. They got the offer but were going to stay anyway.  You wasted your money."
      ]
    },
    {
      "cell_type": "code",
      "execution_count": 15,
      "metadata": {
        "id": "y3BHSJu-9s8z",
        "colab": {
          "base_uri": "https://localhost:8080/"
        },
        "outputId": "6af910e5-7ccc-45c7-c1b0-683ceb58aaac"
      },
      "outputs": [
        {
          "output_type": "execute_result",
          "data": {
            "text/plain": [
              "193400"
            ]
          },
          "metadata": {},
          "execution_count": 15
        }
      ],
      "source": [
        "# Calculate profit for targeting only those predicted to leave\n",
        "(395 * 600) + (218 * -200)\n"
      ]
    },
    {
      "cell_type": "markdown",
      "source": [
        "So, this strategy would show a profit.  But we need to compare this against the default strategy not using a model at all, which would entail marketing to all customers.\n",
        "\n",
        "What would profit be in that case?"
      ],
      "metadata": {
        "id": "3cNzzRqSpu1Q"
      }
    },
    {
      "cell_type": "code",
      "source": [
        "# Calculate profit for targeting everyone\n",
        "(484*600) + (515 * -200)\n",
        "\n"
      ],
      "metadata": {
        "id": "w8eEYPYks0xT",
        "colab": {
          "base_uri": "https://localhost:8080/"
        },
        "outputId": "1afb149d-6a3b-4a95-d63c-fbe554eb3fef"
      },
      "execution_count": 20,
      "outputs": [
        {
          "output_type": "execute_result",
          "data": {
            "text/plain": [
              "187400"
            ]
          },
          "metadata": {},
          "execution_count": 20
        }
      ]
    },
    {
      "cell_type": "code",
      "source": [
        "# hint: use the proportion of leavers and stayers in test\n",
        "y_test.value_counts()"
      ],
      "metadata": {
        "colab": {
          "base_uri": "https://localhost:8080/"
        },
        "id": "dIbOTn2mRBQt",
        "outputId": "14e1df9c-185b-406d-d61e-165d81ca2675"
      },
      "execution_count": 19,
      "outputs": [
        {
          "output_type": "execute_result",
          "data": {
            "text/plain": [
              "leave\n",
              "STAY     515\n",
              "LEAVE    484\n",
              "Name: count, dtype: int64"
            ]
          },
          "metadata": {},
          "execution_count": 19
        }
      ]
    },
    {
      "cell_type": "markdown",
      "source": [
        "Which strategy will show more profit: targeting everyone or targeting only those predicted to leave?"
      ],
      "metadata": {
        "id": "CZFbmqYEtJmJ"
      }
    },
    {
      "cell_type": "markdown",
      "source": [
        "# Adjust the decision threshold\n",
        "\n",
        "As discussed in the lecture, we can adjust the class decision threshold up or down to shift the numbers around in the confusion matrix.  This will impact profit.\n",
        "\n",
        "So far we have used the default for classifying the positive class: the majority, meaning a probability of .5 or greater.\n",
        "\n",
        "Let's try a threshold of .7.\n",
        "\n",
        "1. Predict probabilities rather than a label, again using the test set. We will use the awkwardly named function `predict_proba().` This returns a two column numpy array, with two probabilities for each observation."
      ],
      "metadata": {
        "id": "LOvXx2sguVuy"
      }
    },
    {
      "cell_type": "code",
      "source": [
        "# Predict probabilities for X_test\n",
        "pred_prob = full_tree.predict_proba(X = X_test)\n",
        "\n",
        "# Check that it worked\n",
        "pred_prob[:5,]"
      ],
      "metadata": {
        "id": "qqJrjE0p7Yg1",
        "colab": {
          "base_uri": "https://localhost:8080/"
        },
        "outputId": "3f927b5b-feab-4552-9bb7-723ea6d61bdd"
      },
      "execution_count": 21,
      "outputs": [
        {
          "output_type": "execute_result",
          "data": {
            "text/plain": [
              "array([[0.15291262, 0.84708738],\n",
              "       [0.77182236, 0.22817764],\n",
              "       [0.67639257, 0.32360743],\n",
              "       [0.77182236, 0.22817764],\n",
              "       [0.52884615, 0.47115385]])"
            ]
          },
          "metadata": {},
          "execution_count": 21
        }
      ]
    },
    {
      "cell_type": "markdown",
      "source": [
        "\n",
        "\n",
        "2. Turn the probabilities > .7 into a `LEAVE` for use in the confusion matrix. For this operation we'll use the `where()` function from numpy. `pred_prob` is an array with two columns. We'll need to be sure to use the first column.  Why first? the order corresponds to the order of the levels in `leave`, which is alphabetic, with `LEAVE` first."
      ],
      "metadata": {
        "id": "AyaSh8VS8Jfr"
      }
    },
    {
      "cell_type": "code",
      "source": [
        "pred_labels = np.where(pred_prob[:,0] > 0.7, \"LEAVE\", \"STAY\")"
      ],
      "metadata": {
        "id": "6XZqfPycCElv"
      },
      "execution_count": 22,
      "outputs": []
    },
    {
      "cell_type": "markdown",
      "source": [
        "Code explanation:\n",
        "\n",
        "- `pred_prob[:,0]`: This is array indexing in NumPy. `:` means \"all rows.\" `0` means \"first column\" (remember, indexing starts at 0)\n",
        "\n",
        "- `pred_prob[:,0] > 0.7`: This creates a boolean array, comparing each value in the selected column to 0.7.\n",
        "\n",
        "- `np.where()`: This is a NumPy function that works like `IF` in Excel to return elements chosen from two options based on a condition. It takes three arguments: condition, x, y.  Where the condition (`pred_prob[:,0] > 0.7`) is True, \"LEAVE\" will be used. Where the condition is False, \"STAY\" will be used."
      ],
      "metadata": {
        "id": "wHN1tUvkCsPF"
      }
    },
    {
      "cell_type": "markdown",
      "source": [
        "3. Calculate profit using `pred_labels`"
      ],
      "metadata": {
        "id": "7jN61fodErVH"
      }
    },
    {
      "cell_type": "code",
      "source": [
        "# Create a confusion matrix using these new labels\n",
        "\n",
        "ConfusionMatrixDisplay.from_predictions(y_test, pred_labels)"
      ],
      "metadata": {
        "id": "SPAVwlnnCqp6",
        "colab": {
          "base_uri": "https://localhost:8080/",
          "height": 466
        },
        "outputId": "ff27bf0d-b969-41d3-d9bc-5956942d4963"
      },
      "execution_count": 23,
      "outputs": [
        {
          "output_type": "execute_result",
          "data": {
            "text/plain": [
              "<sklearn.metrics._plot.confusion_matrix.ConfusionMatrixDisplay at 0x7c7562e528f0>"
            ]
          },
          "metadata": {},
          "execution_count": 23
        },
        {
          "output_type": "display_data",
          "data": {
            "text/plain": [
              "<Figure size 640x480 with 2 Axes>"
            ],
            "image/png": "[encoded data removed]"
          },
          "metadata": {}
        }
      ]
    },
    {
      "cell_type": "code",
      "source": [
        "# Calculate profit\n",
        "(195 * 600) + (55 * -200)"
      ],
      "metadata": {
        "id": "7QVYZ9kpFmsR",
        "colab": {
          "base_uri": "https://localhost:8080/"
        },
        "outputId": "a48c49e8-98fb-48b0-b3e3-f95f405bdcfa"
      },
      "execution_count": 24,
      "outputs": [
        {
          "output_type": "execute_result",
          "data": {
            "text/plain": [
              "106000"
            ]
          },
          "metadata": {},
          "execution_count": 24
        }
      ]
    },
    {
      "cell_type": "markdown",
      "source": [
        "# Your Turn:\n",
        "\n",
        "Try a threshold of .3."
      ],
      "metadata": {
        "id": "q2GdjFWPGMqt"
      }
    },
    {
      "cell_type": "code",
      "source": [
        "# Predict probabilities for X_test\n",
        "pred_prob = full_tree.predict_proba(X = X_test)\n",
        "pred_labels = np.where(pred_prob[:,0] > 0.3, \"LEAVE\", \"STAY\")"
      ],
      "metadata": {
        "id": "94FzbluKGY4E"
      },
      "execution_count": 25,
      "outputs": []
    },
    {
      "cell_type": "code",
      "source": [
        "# Create a confusion matrix using these new labels\n",
        "ConfusionMatrixDisplay.from_predictions(y_test, pred_labels)"
      ],
      "metadata": {
        "id": "HCRX37rlI-qA",
        "colab": {
          "base_uri": "https://localhost:8080/",
          "height": 466
        },
        "outputId": "d727fae4-1277-489e-8c9c-f7d2a06cfc5b"
      },
      "execution_count": 26,
      "outputs": [
        {
          "output_type": "execute_result",
          "data": {
            "text/plain": [
              "<sklearn.metrics._plot.confusion_matrix.ConfusionMatrixDisplay at 0x7c75630bb370>"
            ]
          },
          "metadata": {},
          "execution_count": 26
        },
        {
          "output_type": "display_data",
          "data": {
            "text/plain": [
              "<Figure size 640x480 with 2 Axes>"
            ],
            "image/png": "[encoded data removed]"
          },
          "metadata": {}
        }
      ]
    },
    {
      "cell_type": "code",
      "source": [
        "# Calculate profit\n",
        "(440 * 600) + (347 * -200) #best\n"
      ],
      "metadata": {
        "id": "k62R1UZQGzWV",
        "colab": {
          "base_uri": "https://localhost:8080/"
        },
        "outputId": "45920fd7-fa78-49d6-e8f5-031cef56fe5f"
      },
      "execution_count": 27,
      "outputs": [
        {
          "output_type": "execute_result",
          "data": {
            "text/plain": [
              "194600"
            ]
          },
          "metadata": {},
          "execution_count": 27
        }
      ]
    },
    {
      "cell_type": "code",
      "source": [
        "targetting everyone is the second best way\n",
        "targeting people with .5 is the best way\n",
        "targetting people with .7 is the worst way\n",
        "the model needs to target some poeple but as you make the probabilites higher the profit will go down."
      ],
      "metadata": {
        "id": "sIV2cwbEUPu6"
      },
      "execution_count": null,
      "outputs": []
    },
    {
      "cell_type": "markdown",
      "source": [
        "**Make a comment.**\n",
        "\n",
        "Compare this strategy with:\n",
        "1. targeting everyone\n",
        "2. targeting .5 and above\n",
        "3. targeting .7 and above"
      ],
      "metadata": {
        "id": "j_fscC2mIU4m"
      }
    },
    {
      "cell_type": "markdown",
      "source": [
        "# Mini Project\n",
        "\n",
        "Using the Default data for yesterday's lab create a profit matrix for 3 different class decision thresholds:  .2, .5 and .7.\n",
        "\n",
        "Cost:  100 dollars to restructure the loan.\n",
        "\n",
        "Benefit: 1000 to prevent the default.\n",
        "\n",
        "Note: this will entail fitting a model and predicting for a test set."
      ],
      "metadata": {
        "id": "ZRutG7J0IHMS"
      }
    },
    {
      "cell_type": "code",
      "source": [
        "d = pd.read_csv(\"https://raw.githubusercontent.com/jefftwebb/IS_4487_Tokyo/main/Default.csv\")\n"
      ],
      "metadata": {
        "id": "qfEjROOaJWVI"
      },
      "execution_count": 29,
      "outputs": []
    },
    {
      "cell_type": "markdown",
      "source": [
        "**Comment**: which class decision threshold is best for optimzing the company's profit?"
      ],
      "metadata": {
        "id": "SREtvhONJZCL"
      }
    },
    {
      "cell_type": "code",
      "source": [
        "d_clean = d.copy()"
      ],
      "metadata": {
        "id": "3ni7KWhCgFZU"
      },
      "execution_count": 30,
      "outputs": []
    },
    {
      "cell_type": "code",
      "source": [
        "d_clean['student'] = pd.Categorical(d_clean['student'])"
      ],
      "metadata": {
        "id": "xM_vRowOg1Yz"
      },
      "execution_count": 31,
      "outputs": []
    },
    {
      "cell_type": "code",
      "source": [
        "d_clean['student'] = d_clean['student'].replace({'Yes': 1, 'No': 0})"
      ],
      "metadata": {
        "id": "C8p7as4rg79H"
      },
      "execution_count": 32,
      "outputs": []
    },
    {
      "cell_type": "code",
      "source": [
        "train = d_clean.sample(frac=0.8, random_state=200) # 80% of data for training\n",
        "test = d_clean.drop(train.index)"
      ],
      "metadata": {
        "id": "QT-JDW5bg9qz"
      },
      "execution_count": 33,
      "outputs": []
    },
    {
      "cell_type": "code",
      "source": [
        "X_train = train.drop(['id', 'default'], axis = 1)\n",
        "y_train = train['default']\n",
        "\n",
        "X_test = test.drop(['id', 'default'], axis = 1)\n",
        "y_test = test['default']"
      ],
      "metadata": {
        "id": "vkyDQrrjhEKD"
      },
      "execution_count": 34,
      "outputs": []
    },
    {
      "cell_type": "code",
      "source": [
        "# Initialize the tree\n",
        "d_tree = DecisionTreeClassifier(criterion = \"entropy\", max_depth = 4)\n",
        "# Fit the model\n",
        "d_tree = d_tree.fit(X = X_train, y = y_train)"
      ],
      "metadata": {
        "id": "PPIFtmWIhJT6"
      },
      "execution_count": 35,
      "outputs": []
    },
    {
      "cell_type": "code",
      "source": [
        "pred = d_tree.predict(X = X_test)"
      ],
      "metadata": {
        "id": "4eNQEv7Uhe0V"
      },
      "execution_count": 37,
      "outputs": []
    },
    {
      "cell_type": "code",
      "source": [
        "# create a confusion matrix using the Display.from_predictions function\n",
        "from sklearn.metrics import ConfusionMatrixDisplay\n",
        "\n",
        "ConfusionMatrixDisplay.from_predictions(y_test, pred)"
      ],
      "metadata": {
        "colab": {
          "base_uri": "https://localhost:8080/",
          "height": 466
        },
        "id": "vxYrA3BKhjCV",
        "outputId": "a605948f-6787-4a17-bdca-5ddec4e2eff6"
      },
      "execution_count": 38,
      "outputs": [
        {
          "output_type": "execute_result",
          "data": {
            "text/plain": [
              "<sklearn.metrics._plot.confusion_matrix.ConfusionMatrixDisplay at 0x7c75630bba90>"
            ]
          },
          "metadata": {},
          "execution_count": 38
        },
        {
          "output_type": "display_data",
          "data": {
            "text/plain": [
              "<Figure size 640x480 with 2 Axes>"
            ],
            "image/png": "[encoded data removed]"
          },
          "metadata": {}
        }
      ]
    },
    {
      "cell_type": "code",
      "source": [
        "# profit for .5\n",
        "(900*11) + (6* -100)"
      ],
      "metadata": {
        "colab": {
          "base_uri": "https://localhost:8080/"
        },
        "id": "5GzNr4FHieBu",
        "outputId": "bbe3240c-ffd7-49b2-d955-e0ba7bf35976"
      },
      "execution_count": 66,
      "outputs": [
        {
          "output_type": "execute_result",
          "data": {
            "text/plain": [
              "9300"
            ]
          },
          "metadata": {},
          "execution_count": 66
        }
      ]
    },
    {
      "cell_type": "code",
      "source": [
        "pred_prob = d_tree.predict_proba(X = X_test)"
      ],
      "metadata": {
        "id": "4gXDR2S2hnLn"
      },
      "execution_count": 40,
      "outputs": []
    },
    {
      "cell_type": "code",
      "source": [
        "pred_labels = np.where(pred_prob[:,1] > 0.7, \"Yes\", \"No\")"
      ],
      "metadata": {
        "id": "ZwmRb0e5iX3F"
      },
      "execution_count": 61,
      "outputs": []
    },
    {
      "cell_type": "code",
      "source": [
        "ConfusionMatrixDisplay.from_predictions(y_test, pred_labels)"
      ],
      "metadata": {
        "colab": {
          "base_uri": "https://localhost:8080/",
          "height": 466
        },
        "id": "xsRwgjegi8Xm",
        "outputId": "163986a3-4f52-4f37-b2b9-0272f6bd1492"
      },
      "execution_count": 62,
      "outputs": [
        {
          "output_type": "execute_result",
          "data": {
            "text/plain": [
              "<sklearn.metrics._plot.confusion_matrix.ConfusionMatrixDisplay at 0x7c759b4b0790>"
            ]
          },
          "metadata": {},
          "execution_count": 62
        },
        {
          "output_type": "display_data",
          "data": {
            "text/plain": [
              "<Figure size 640x480 with 2 Axes>"
            ],
            "image/png": "[encoded data removed]"
          },
          "metadata": {}
        }
      ]
    },
    {
      "cell_type": "code",
      "source": [
        "(900*10) + (4* -100)"
      ],
      "metadata": {
        "colab": {
          "base_uri": "https://localhost:8080/"
        },
        "id": "NB3efoEgj9oF",
        "outputId": "631db46d-6dff-49ff-860e-c3d43eb9d7d9"
      },
      "execution_count": 58,
      "outputs": [
        {
          "output_type": "execute_result",
          "data": {
            "text/plain": [
              "8600"
            ]
          },
          "metadata": {},
          "execution_count": 58
        }
      ]
    },
    {
      "cell_type": "code",
      "source": [
        "pred_prob = d_tree.predict_proba(X = X_test)\n",
        "pred_labels = np.where(pred_prob[:,1] > 0.2, \"Yes\", \"No\")"
      ],
      "metadata": {
        "id": "PNN5f-PBjPtb"
      },
      "execution_count": 63,
      "outputs": []
    },
    {
      "cell_type": "markdown",
      "source": [],
      "metadata": {
        "id": "tuqd6xSYrCaV"
      }
    },
    {
      "cell_type": "code",
      "source": [
        "ConfusionMatrixDisplay.from_predictions(y_test, pred_labels)"
      ],
      "metadata": {
        "colab": {
          "base_uri": "https://localhost:8080/",
          "height": 466
        },
        "id": "naO6X7NBjQHm",
        "outputId": "4f478385-e850-4dc7-b93a-465d666d402f"
      },
      "execution_count": 64,
      "outputs": [
        {
          "output_type": "execute_result",
          "data": {
            "text/plain": [
              "<sklearn.metrics._plot.confusion_matrix.ConfusionMatrixDisplay at 0x7c755f45fe20>"
            ]
          },
          "metadata": {},
          "execution_count": 64
        },
        {
          "output_type": "display_data",
          "data": {
            "text/plain": [
              "<Figure size 640x480 with 2 Axes>"
            ],
            "image/png": "[encoded data removed]"
          },
          "metadata": {}
        }
      ]
    },
    {
      "cell_type": "code",
      "source": [
        "(900*33) + (48* -100)"
      ],
      "metadata": {
        "colab": {
          "base_uri": "https://localhost:8080/"
        },
        "id": "XfFK8XEUjkL7",
        "outputId": "9a0e2543-ccc0-408b-f8c1-e84265fd4202"
      },
      "execution_count": 65,
      "outputs": [
        {
          "output_type": "execute_result",
          "data": {
            "text/plain": [
              "24900"
            ]
          },
          "metadata": {},
          "execution_count": 65
        }
      ]
    },
    {
      "cell_type": "markdown",
      "source": [
        "Quality check"
      ],
      "metadata": {
        "id": "4SAZ2AB_qGnE"
      }
    },
    {
      "cell_type": "code",
      "source": [
        "pred = d_tree.predict(X = X_test)\n",
        "pred_labels[20:]"
      ],
      "metadata": {
        "colab": {
          "base_uri": "https://localhost:8080/"
        },
        "id": "I-Hq7mT0p5M1",
        "outputId": "e588adfe-3ad2-433f-e164-2c323dcb40be"
      },
      "execution_count": 69,
      "outputs": [
        {
          "output_type": "execute_result",
          "data": {
            "text/plain": [
              "array(['No', 'No', 'No', ..., 'No', 'No', 'No'], dtype='<U3')"
            ]
          },
          "metadata": {},
          "execution_count": 69
        }
      ]
    },
    {
      "cell_type": "code",
      "source": [
        "pred_labels = np.where(pred_prob[:,1] > 0.5, \"Yes\", \"No\")\n",
        "pred_labels[20:]"
      ],
      "metadata": {
        "colab": {
          "base_uri": "https://localhost:8080/"
        },
        "id": "DCoHCROTqKpd",
        "outputId": "7f4777f2-7ec2-4dec-df0a-bec58367052b"
      },
      "execution_count": 70,
      "outputs": [
        {
          "output_type": "execute_result",
          "data": {
            "text/plain": [
              "array(['No', 'No', 'No', ..., 'No', 'No', 'No'], dtype='<U3')"
            ]
          },
          "metadata": {},
          "execution_count": 70
        }
      ]
    }
  ],
  "metadata": {
    "colab": {
      "provenance": [],
      "include_colab_link": true
    },
    "kernelspec": {
      "display_name": "Python 3",
      "name": "python3"
    },
    "language_info": {
      "name": "python"
    }
  },
  "nbformat": 4,
  "nbformat_minor": 0
}